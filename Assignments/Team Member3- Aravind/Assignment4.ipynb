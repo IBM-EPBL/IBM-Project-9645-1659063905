{
 "cells": [
  {
   "cell_type": "markdown",
   "metadata": {},
   "source": [
    "# Assignment 4\n",
    "Customer Segmentation Analysis "
   ]
  },
  {
   "cell_type": "code",
   "execution_count": 2,
   "metadata": {},
   "outputs": [],
   "source": [
    "import pandas as pd\n",
    "import numpy as np\n",
    "import seaborn as sns\n",
    "import matplotlib.pyplot as plt"
   ]
  },
  {
   "cell_type": "markdown",
   "metadata": {},
   "source": [
    "# Loading the dataset"
   ]
  },
  {
   "cell_type": "code",
   "execution_count": 4,
   "metadata": {},
   "outputs": [
    {
     "data": {
      "text/html": [
       "<div>\n",
       "<style scoped>\n",
       "    .dataframe tbody tr th:only-of-type {\n",
       "        vertical-align: middle;\n",
       "    }\n",
       "\n",
       "    .dataframe tbody tr th {\n",
       "        vertical-align: top;\n",
       "    }\n",
       "\n",
       "    .dataframe thead th {\n",
       "        text-align: right;\n",
       "    }\n",
       "</style>\n",
       "<table border=\"1\" class=\"dataframe\">\n",
       "  <thead>\n",
       "    <tr style=\"text-align: right;\">\n",
       "      <th></th>\n",
       "      <th>CustomerID</th>\n",
       "      <th>Genre</th>\n",
       "      <th>Age</th>\n",
       "      <th>Annual Income (k$)</th>\n",
       "      <th>Spending Score (1-100)</th>\n",
       "    </tr>\n",
       "  </thead>\n",
       "  <tbody>\n",
       "    <tr>\n",
       "      <th>0</th>\n",
       "      <td>1</td>\n",
       "      <td>Male</td>\n",
       "      <td>19</td>\n",
       "      <td>15</td>\n",
       "      <td>39</td>\n",
       "    </tr>\n",
       "    <tr>\n",
       "      <th>1</th>\n",
       "      <td>2</td>\n",
       "      <td>Male</td>\n",
       "      <td>21</td>\n",
       "      <td>15</td>\n",
       "      <td>81</td>\n",
       "    </tr>\n",
       "    <tr>\n",
       "      <th>2</th>\n",
       "      <td>3</td>\n",
       "      <td>Female</td>\n",
       "      <td>20</td>\n",
       "      <td>16</td>\n",
       "      <td>6</td>\n",
       "    </tr>\n",
       "    <tr>\n",
       "      <th>3</th>\n",
       "      <td>4</td>\n",
       "      <td>Female</td>\n",
       "      <td>23</td>\n",
       "      <td>16</td>\n",
       "      <td>77</td>\n",
       "    </tr>\n",
       "    <tr>\n",
       "      <th>4</th>\n",
       "      <td>5</td>\n",
       "      <td>Female</td>\n",
       "      <td>31</td>\n",
       "      <td>17</td>\n",
       "      <td>40</td>\n",
       "    </tr>\n",
       "    <tr>\n",
       "      <th>...</th>\n",
       "      <td>...</td>\n",
       "      <td>...</td>\n",
       "      <td>...</td>\n",
       "      <td>...</td>\n",
       "      <td>...</td>\n",
       "    </tr>\n",
       "    <tr>\n",
       "      <th>195</th>\n",
       "      <td>196</td>\n",
       "      <td>Female</td>\n",
       "      <td>35</td>\n",
       "      <td>120</td>\n",
       "      <td>79</td>\n",
       "    </tr>\n",
       "    <tr>\n",
       "      <th>196</th>\n",
       "      <td>197</td>\n",
       "      <td>Female</td>\n",
       "      <td>45</td>\n",
       "      <td>126</td>\n",
       "      <td>28</td>\n",
       "    </tr>\n",
       "    <tr>\n",
       "      <th>197</th>\n",
       "      <td>198</td>\n",
       "      <td>Male</td>\n",
       "      <td>32</td>\n",
       "      <td>126</td>\n",
       "      <td>74</td>\n",
       "    </tr>\n",
       "    <tr>\n",
       "      <th>198</th>\n",
       "      <td>199</td>\n",
       "      <td>Male</td>\n",
       "      <td>32</td>\n",
       "      <td>137</td>\n",
       "      <td>18</td>\n",
       "    </tr>\n",
       "    <tr>\n",
       "      <th>199</th>\n",
       "      <td>200</td>\n",
       "      <td>Male</td>\n",
       "      <td>30</td>\n",
       "      <td>137</td>\n",
       "      <td>83</td>\n",
       "    </tr>\n",
       "  </tbody>\n",
       "</table>\n",
       "<p>200 rows × 5 columns</p>\n",
       "</div>"
      ],
      "text/plain": [
       "     CustomerID   Genre  Age  Annual Income (k$)  Spending Score (1-100)\n",
       "0             1    Male   19                  15                      39\n",
       "1             2    Male   21                  15                      81\n",
       "2             3  Female   20                  16                       6\n",
       "3             4  Female   23                  16                      77\n",
       "4             5  Female   31                  17                      40\n",
       "..          ...     ...  ...                 ...                     ...\n",
       "195         196  Female   35                 120                      79\n",
       "196         197  Female   45                 126                      28\n",
       "197         198    Male   32                 126                      74\n",
       "198         199    Male   32                 137                      18\n",
       "199         200    Male   30                 137                      83\n",
       "\n",
       "[200 rows x 5 columns]"
      ]
     },
     "execution_count": 4,
     "metadata": {},
     "output_type": "execute_result"
    }
   ],
   "source": [
    "df = pd.read_csv('C:/Users/Asus/Downloads/Mall_Customers.csv')\n",
    "df"
   ]
  },
  {
   "cell_type": "markdown",
   "metadata": {},
   "source": [
    "# Visualisation\n",
    "Univariate analysis"
   ]
  },
  {
   "cell_type": "code",
   "execution_count": 5,
   "metadata": {},
   "outputs": [
    {
     "data": {
      "text/plain": [
       "38.85"
      ]
     },
     "execution_count": 5,
     "metadata": {},
     "output_type": "execute_result"
    }
   ],
   "source": [
    "df['Age'].mean()"
   ]
  },
  {
   "cell_type": "code",
   "execution_count": 6,
   "metadata": {},
   "outputs": [
    {
     "data": {
      "text/plain": [
       "36.0"
      ]
     },
     "execution_count": 6,
     "metadata": {},
     "output_type": "execute_result"
    }
   ],
   "source": [
    "df['Age'].median()"
   ]
  },
  {
   "cell_type": "code",
   "execution_count": 7,
   "metadata": {},
   "outputs": [
    {
     "data": {
      "text/plain": [
       "13.969007331558883"
      ]
     },
     "execution_count": 7,
     "metadata": {},
     "output_type": "execute_result"
    }
   ],
   "source": [
    "df['Age'].std()"
   ]
  },
  {
   "cell_type": "code",
   "execution_count": 8,
   "metadata": {},
   "outputs": [
    {
     "data": {
      "text/plain": [
       "54     12\n",
       "78     12\n",
       "60      6\n",
       "87      6\n",
       "62      6\n",
       "       ..\n",
       "61      2\n",
       "126     2\n",
       "59      2\n",
       "58      2\n",
       "15      2\n",
       "Name: Annual Income (k$), Length: 64, dtype: int64"
      ]
     },
     "execution_count": 8,
     "metadata": {},
     "output_type": "execute_result"
    }
   ],
   "source": [
    "df['Annual Income (k$)'].value_counts()"
   ]
  },
  {
   "cell_type": "code",
   "execution_count": 9,
   "metadata": {},
   "outputs": [
    {
     "data": {
      "text/plain": [
       "<AxesSubplot:>"
      ]
     },
     "execution_count": 9,
     "metadata": {},
     "output_type": "execute_result"
    },
    {
     "data": {
      "image/png": "[encoded data removed]",
      "text/plain": [
       "<Figure size 432x288 with 1 Axes>"
      ]
     },
     "metadata": {
      "needs_background": "light"
     },
     "output_type": "display_data"
    }
   ],
   "source": [
    "df.boxplot(column=['Age'], grid=False)"
   ]
  },
  {
   "cell_type": "code",
   "execution_count": 10,
   "metadata": {},
   "outputs": [
    {
     "data": {
      "text/plain": [
       "(array([24., 22., 28., 38., 30., 36.,  8.,  6.,  4.,  4.]),\n",
       " array([ 15. ,  27.2,  39.4,  51.6,  63.8,  76. ,  88.2, 100.4, 112.6,\n",
       "        124.8, 137. ]),\n",
       " <BarContainer object of 10 artists>)"
      ]
     },
     "execution_count": 10,
     "metadata": {},
     "output_type": "execute_result"
    },
    {
     "data": {
      "image/png": "[encoded data removed]",
      "text/plain": [
       "<Figure size 432x288 with 1 Axes>"
      ]
     },
     "metadata": {
      "needs_background": "light"
     },
     "output_type": "display_data"
    }
   ],
   "source": [
    "plt.hist(df['Annual Income (k$)'])"
   ]
  },
  {
   "cell_type": "code",
   "execution_count": 11,
   "metadata": {},
   "outputs": [
    {
     "data": {
      "text/plain": [
       "<AxesSubplot:xlabel='Age', ylabel='Density'>"
      ]
     },
     "execution_count": 11,
     "metadata": {},
     "output_type": "execute_result"
    },
    {
     "data": {
      "image/png": "[encoded data removed]",
      "text/plain": [
       "<Figure size 432x288 with 1 Axes>"
      ]
     },
     "metadata": {
      "needs_background": "light"
     },
     "output_type": "display_data"
    }
   ],
   "source": [
    "sns.kdeplot(df['Age'])\n"
   ]
  },
  {
   "cell_type": "markdown",
   "metadata": {},
   "source": [
    "# Bivariate\n"
   ]
  },
  {
   "cell_type": "code",
   "execution_count": 12,
   "metadata": {},
   "outputs": [
    {
     "data": {
      "text/plain": [
       "Text(0, 0.5, 'Age')"
      ]
     },
     "execution_count": 12,
     "metadata": {},
     "output_type": "execute_result"
    },
    {
     "data": {
      "image/png": "[encoded data removed]",
      "text/plain": [
       "<Figure size 432x288 with 1 Axes>"
      ]
     },
     "metadata": {
      "needs_background": "light"
     },
     "output_type": "display_data"
    }
   ],
   "source": [
    "plt.scatter(x=df[\"Annual Income (k$)\"].head(100), y=df.Age.head(100))\n",
    "plt.title('Scatter')\n",
    "plt.xlabel('Annual Income')\n",
    "plt.ylabel('Age')"
   ]
  },
  {
   "cell_type": "code",
   "execution_count": 13,
   "metadata": {},
   "outputs": [
    {
     "data": {
      "text/plain": [
       "<BarContainer object of 5 artists>"
      ]
     },
     "execution_count": 13,
     "metadata": {},
     "output_type": "execute_result"
    },
    {
     "data": {
      "image/png": "[encoded data removed]",
      "text/plain": [
       "<Figure size 432x288 with 1 Axes>"
      ]
     },
     "metadata": {
      "needs_background": "light"
     },
     "output_type": "display_data"
    }
   ],
   "source": [
    "plt.bar(df['Annual Income (k$)'].head() ,df['Spending Score (1-100)'].head(),  )"
   ]
  },
  {
   "cell_type": "markdown",
   "metadata": {},
   "source": [
    "# Multivariate"
   ]
  },
  {
   "cell_type": "code",
   "execution_count": 20,
   "metadata": {},
   "outputs": [
    {
     "data": {
      "text/plain": [
       "<AxesSubplot:>"
      ]
     },
     "execution_count": 20,
     "metadata": {},
     "output_type": "execute_result"
    },
    {
     "data": {
      "image/png": "[encoded data removed]",
      "text/plain": [
       "<Figure size 864x720 with 2 Axes>"
      ]
     },
     "metadata": {
      "needs_background": "light"
     },
     "output_type": "display_data"
    }
   ],
   "source": [
    "f = plt.subplots(figsize=(12,10))\n",
    "sns.heatmap(df.head().corr(), cmap=\"icefire\")"
   ]
  },
  {
   "cell_type": "code",
   "execution_count": 23,
   "metadata": {},
   "outputs": [
    {
     "data": {
      "text/plain": [
       "<seaborn.matrix.ClusterGrid at 0x1efc3c0a9d0>"
      ]
     },
     "execution_count": 23,
     "metadata": {},
     "output_type": "execute_result"
    },
    {
     "data": {
      "image/png": "[encoded data removed]",
      "text/plain": [
       "<Figure size 720x720 with 4 Axes>"
      ]
     },
     "metadata": {
      "needs_background": "light"
     },
     "output_type": "display_data"
    }
   ],
   "source": [
    "corrmat = df.corr(method='spearman')\n",
    "cg = sns.clustermap(corrmat, cmap=\"icefire\", linewidths=0.1);\n",
    "plt.setp(cg.ax_heatmap.yaxis.get_majorticklabels(), rotation=0)\n",
    "cg"
   ]
  },
  {
   "cell_type": "markdown",
   "metadata": {},
   "source": [
    "# Perform descriptive statistics on the dataset"
   ]
  },
  {
   "cell_type": "code",
   "execution_count": 24,
   "metadata": {},
   "outputs": [
    {
     "data": {
      "text/html": [
       "<div>\n",
       "<style scoped>\n",
       "    .dataframe tbody tr th:only-of-type {\n",
       "        vertical-align: middle;\n",
       "    }\n",
       "\n",
       "    .dataframe tbody tr th {\n",
       "        vertical-align: top;\n",
       "    }\n",
       "\n",
       "    .dataframe thead th {\n",
       "        text-align: right;\n",
       "    }\n",
       "</style>\n",
       "<table border=\"1\" class=\"dataframe\">\n",
       "  <thead>\n",
       "    <tr style=\"text-align: right;\">\n",
       "      <th></th>\n",
       "      <th>CustomerID</th>\n",
       "      <th>Age</th>\n",
       "      <th>Annual Income (k$)</th>\n",
       "      <th>Spending Score (1-100)</th>\n",
       "    </tr>\n",
       "  </thead>\n",
       "  <tbody>\n",
       "    <tr>\n",
       "      <th>count</th>\n",
       "      <td>200.000000</td>\n",
       "      <td>200.000000</td>\n",
       "      <td>200.000000</td>\n",
       "      <td>200.000000</td>\n",
       "    </tr>\n",
       "    <tr>\n",
       "      <th>mean</th>\n",
       "      <td>100.500000</td>\n",
       "      <td>38.850000</td>\n",
       "      <td>60.560000</td>\n",
       "      <td>50.200000</td>\n",
       "    </tr>\n",
       "    <tr>\n",
       "      <th>std</th>\n",
       "      <td>57.879185</td>\n",
       "      <td>13.969007</td>\n",
       "      <td>26.264721</td>\n",
       "      <td>25.823522</td>\n",
       "    </tr>\n",
       "    <tr>\n",
       "      <th>min</th>\n",
       "      <td>1.000000</td>\n",
       "      <td>18.000000</td>\n",
       "      <td>15.000000</td>\n",
       "      <td>1.000000</td>\n",
       "    </tr>\n",
       "    <tr>\n",
       "      <th>25%</th>\n",
       "      <td>50.750000</td>\n",
       "      <td>28.750000</td>\n",
       "      <td>41.500000</td>\n",
       "      <td>34.750000</td>\n",
       "    </tr>\n",
       "    <tr>\n",
       "      <th>50%</th>\n",
       "      <td>100.500000</td>\n",
       "      <td>36.000000</td>\n",
       "      <td>61.500000</td>\n",
       "      <td>50.000000</td>\n",
       "    </tr>\n",
       "    <tr>\n",
       "      <th>75%</th>\n",
       "      <td>150.250000</td>\n",
       "      <td>49.000000</td>\n",
       "      <td>78.000000</td>\n",
       "      <td>73.000000</td>\n",
       "    </tr>\n",
       "    <tr>\n",
       "      <th>max</th>\n",
       "      <td>200.000000</td>\n",
       "      <td>70.000000</td>\n",
       "      <td>137.000000</td>\n",
       "      <td>99.000000</td>\n",
       "    </tr>\n",
       "  </tbody>\n",
       "</table>\n",
       "</div>"
      ],
      "text/plain": [
       "       CustomerID         Age  Annual Income (k$)  Spending Score (1-100)\n",
       "count  200.000000  200.000000          200.000000              200.000000\n",
       "mean   100.500000   38.850000           60.560000               50.200000\n",
       "std     57.879185   13.969007           26.264721               25.823522\n",
       "min      1.000000   18.000000           15.000000                1.000000\n",
       "25%     50.750000   28.750000           41.500000               34.750000\n",
       "50%    100.500000   36.000000           61.500000               50.000000\n",
       "75%    150.250000   49.000000           78.000000               73.000000\n",
       "max    200.000000   70.000000          137.000000               99.000000"
      ]
     },
     "execution_count": 24,
     "metadata": {},
     "output_type": "execute_result"
    }
   ],
   "source": [
    "df.describe()\n"
   ]
  },
  {
   "cell_type": "code",
   "execution_count": 25,
   "metadata": {},
   "outputs": [
    {
     "data": {
      "text/plain": [
       "CustomerID                 int64\n",
       "Genre                     object\n",
       "Age                        int64\n",
       "Annual Income (k$)         int64\n",
       "Spending Score (1-100)     int64\n",
       "dtype: object"
      ]
     },
     "execution_count": 25,
     "metadata": {},
     "output_type": "execute_result"
    }
   ],
   "source": [
    "df.dtypes"
   ]
  },
  {
   "cell_type": "code",
   "execution_count": 26,
   "metadata": {},
   "outputs": [
    {
     "data": {
      "text/plain": [
       "CustomerID                200\n",
       "Genre                       2\n",
       "Age                        51\n",
       "Annual Income (k$)         64\n",
       "Spending Score (1-100)     84\n",
       "dtype: int64"
      ]
     },
     "execution_count": 26,
     "metadata": {},
     "output_type": "execute_result"
    }
   ],
   "source": [
    "df.nunique()"
   ]
  },
  {
   "cell_type": "code",
   "execution_count": 27,
   "metadata": {},
   "outputs": [
    {
     "name": "stdout",
     "output_type": "stream",
     "text": [
      "<class 'pandas.core.frame.DataFrame'>\n",
      "RangeIndex: 200 entries, 0 to 199\n",
      "Data columns (total 5 columns):\n",
      " #   Column                  Non-Null Count  Dtype \n",
      "---  ------                  --------------  ----- \n",
      " 0   CustomerID              200 non-null    int64 \n",
      " 1   Genre                   200 non-null    object\n",
      " 2   Age                     200 non-null    int64 \n",
      " 3   Annual Income (k$)      200 non-null    int64 \n",
      " 4   Spending Score (1-100)  200 non-null    int64 \n",
      "dtypes: int64(4), object(1)\n",
      "memory usage: 7.9+ KB\n"
     ]
    }
   ],
   "source": [
    "df.info()"
   ]
  },
  {
   "cell_type": "code",
   "execution_count": 28,
   "metadata": {},
   "outputs": [
    {
     "data": {
      "text/plain": [
       "0.75    49.00\n",
       "0.25    28.75\n",
       "Name: Age, dtype: float64"
      ]
     },
     "execution_count": 28,
     "metadata": {},
     "output_type": "execute_result"
    }
   ],
   "source": [
    "quantile = df['Age'].quantile(q=[0.75, 0.25])\n",
    "quantile"
   ]
  },
  {
   "cell_type": "markdown",
   "metadata": {},
   "source": [
    "# Handling the missing data"
   ]
  },
  {
   "cell_type": "code",
   "execution_count": 29,
   "metadata": {},
   "outputs": [
    {
     "data": {
      "text/plain": [
       "CustomerID                0\n",
       "Genre                     0\n",
       "Age                       0\n",
       "Annual Income (k$)        0\n",
       "Spending Score (1-100)    0\n",
       "dtype: int64"
      ]
     },
     "execution_count": 29,
     "metadata": {},
     "output_type": "execute_result"
    }
   ],
   "source": [
    "df.isnull().sum()"
   ]
  },
  {
   "cell_type": "code",
   "execution_count": 30,
   "metadata": {},
   "outputs": [
    {
     "data": {
      "text/plain": [
       "CustomerID                False\n",
       "Genre                     False\n",
       "Age                       False\n",
       "Annual Income (k$)        False\n",
       "Spending Score (1-100)    False\n",
       "dtype: bool"
      ]
     },
     "execution_count": 30,
     "metadata": {},
     "output_type": "execute_result"
    }
   ],
   "source": [
    "df.isna().any()"
   ]
  },
  {
   "cell_type": "markdown",
   "metadata": {},
   "source": [
    "# Find the outliers and replace the outliers "
   ]
  },
  {
   "cell_type": "code",
   "execution_count": 33,
   "metadata": {},
   "outputs": [
    {
     "data": {
      "image/png": "[encoded data removed]",
      "text/plain": [
       "<Figure size 1800x2160 with 28 Axes>"
      ]
     },
     "metadata": {
      "needs_background": "light"
     },
     "output_type": "display_data"
    }
   ],
   "source": [
    "df.plot(kind=\"box\",subplots=True,layout=(7,4),figsize=(25,30));"
   ]
  },
  {
   "cell_type": "code",
   "execution_count": 35,
   "metadata": {},
   "outputs": [
    {
     "name": "stderr",
     "output_type": "stream",
     "text": [
      "C:\\Users\\Asus\\anaconda3\\lib\\site-packages\\seaborn\\_decorators.py:36: FutureWarning: Pass the following variable as a keyword arg: x. From version 0.12, the only valid positional argument will be `data`, and passing other arguments without an explicit keyword will result in an error or misinterpretation.\n",
      "  warnings.warn(\n"
     ]
    },
    {
     "data": {
      "text/plain": [
       "<AxesSubplot:xlabel='Age'>"
      ]
     },
     "execution_count": 35,
     "metadata": {},
     "output_type": "execute_result"
    },
    {
     "data": {
      "image/png": "[encoded data removed]",
      "text/plain": [
       "<Figure size 432x288 with 1 Axes>"
      ]
     },
     "metadata": {
      "needs_background": "light"
     },
     "output_type": "display_data"
    }
   ],
   "source": [
    "sns.boxplot(df['Age'])"
   ]
  },
  {
   "cell_type": "code",
   "execution_count": 36,
   "metadata": {},
   "outputs": [],
   "source": [
    "df['Age']=np.where(df['Age']>57,39, df['Age'])"
   ]
  },
  {
   "cell_type": "code",
   "execution_count": 37,
   "metadata": {},
   "outputs": [
    {
     "name": "stderr",
     "output_type": "stream",
     "text": [
      "C:\\Users\\Asus\\anaconda3\\lib\\site-packages\\seaborn\\_decorators.py:36: FutureWarning: Pass the following variable as a keyword arg: x. From version 0.12, the only valid positional argument will be `data`, and passing other arguments without an explicit keyword will result in an error or misinterpretation.\n",
      "  warnings.warn(\n"
     ]
    },
    {
     "data": {
      "text/plain": [
       "<AxesSubplot:xlabel='Age'>"
      ]
     },
     "execution_count": 37,
     "metadata": {},
     "output_type": "execute_result"
    },
    {
     "data": {
      "image/png": "[encoded data removed]",
      "text/plain": [
       "<Figure size 432x288 with 1 Axes>"
      ]
     },
     "metadata": {
      "needs_background": "light"
     },
     "output_type": "display_data"
    }
   ],
   "source": [
    "sns.boxplot(df['Age'])"
   ]
  },
  {
   "cell_type": "markdown",
   "metadata": {},
   "source": [
    "# Check for Categorical columns and perform encoding."
   ]
  },
  {
   "cell_type": "code",
   "execution_count": 41,
   "metadata": {},
   "outputs": [
    {
     "data": {
      "text/plain": [
       "[15, 15, 16, 16, 17, ..., 120, 126, 126, 137, 137]\n",
       "Length: 200\n",
       "Categories (64, int64): [15, 16, 17, 18, ..., 113, 120, 126, 137]"
      ]
     },
     "execution_count": 41,
     "metadata": {},
     "output_type": "execute_result"
    }
   ],
   "source": [
    "pd.Categorical(df[\"Annual Income (k$)\"])"
   ]
  },
  {
   "cell_type": "code",
   "execution_count": 42,
   "metadata": {},
   "outputs": [
    {
     "data": {
      "text/html": [
       "<div>\n",
       "<style scoped>\n",
       "    .dataframe tbody tr th:only-of-type {\n",
       "        vertical-align: middle;\n",
       "    }\n",
       "\n",
       "    .dataframe tbody tr th {\n",
       "        vertical-align: top;\n",
       "    }\n",
       "\n",
       "    .dataframe thead th {\n",
       "        text-align: right;\n",
       "    }\n",
       "</style>\n",
       "<table border=\"1\" class=\"dataframe\">\n",
       "  <thead>\n",
       "    <tr style=\"text-align: right;\">\n",
       "      <th></th>\n",
       "      <th>15</th>\n",
       "      <th>16</th>\n",
       "      <th>17</th>\n",
       "      <th>18</th>\n",
       "      <th>19</th>\n",
       "      <th>20</th>\n",
       "      <th>21</th>\n",
       "      <th>23</th>\n",
       "      <th>24</th>\n",
       "      <th>25</th>\n",
       "      <th>...</th>\n",
       "      <th>93</th>\n",
       "      <th>97</th>\n",
       "      <th>98</th>\n",
       "      <th>99</th>\n",
       "      <th>101</th>\n",
       "      <th>103</th>\n",
       "      <th>113</th>\n",
       "      <th>120</th>\n",
       "      <th>126</th>\n",
       "      <th>137</th>\n",
       "    </tr>\n",
       "  </thead>\n",
       "  <tbody>\n",
       "    <tr>\n",
       "      <th>0</th>\n",
       "      <td>1</td>\n",
       "      <td>0</td>\n",
       "      <td>0</td>\n",
       "      <td>0</td>\n",
       "      <td>0</td>\n",
       "      <td>0</td>\n",
       "      <td>0</td>\n",
       "      <td>0</td>\n",
       "      <td>0</td>\n",
       "      <td>0</td>\n",
       "      <td>...</td>\n",
       "      <td>0</td>\n",
       "      <td>0</td>\n",
       "      <td>0</td>\n",
       "      <td>0</td>\n",
       "      <td>0</td>\n",
       "      <td>0</td>\n",
       "      <td>0</td>\n",
       "      <td>0</td>\n",
       "      <td>0</td>\n",
       "      <td>0</td>\n",
       "    </tr>\n",
       "    <tr>\n",
       "      <th>1</th>\n",
       "      <td>1</td>\n",
       "      <td>0</td>\n",
       "      <td>0</td>\n",
       "      <td>0</td>\n",
       "      <td>0</td>\n",
       "      <td>0</td>\n",
       "      <td>0</td>\n",
       "      <td>0</td>\n",
       "      <td>0</td>\n",
       "      <td>0</td>\n",
       "      <td>...</td>\n",
       "      <td>0</td>\n",
       "      <td>0</td>\n",
       "      <td>0</td>\n",
       "      <td>0</td>\n",
       "      <td>0</td>\n",
       "      <td>0</td>\n",
       "      <td>0</td>\n",
       "      <td>0</td>\n",
       "      <td>0</td>\n",
       "      <td>0</td>\n",
       "    </tr>\n",
       "    <tr>\n",
       "      <th>2</th>\n",
       "      <td>0</td>\n",
       "      <td>1</td>\n",
       "      <td>0</td>\n",
       "      <td>0</td>\n",
       "      <td>0</td>\n",
       "      <td>0</td>\n",
       "      <td>0</td>\n",
       "      <td>0</td>\n",
       "      <td>0</td>\n",
       "      <td>0</td>\n",
       "      <td>...</td>\n",
       "      <td>0</td>\n",
       "      <td>0</td>\n",
       "      <td>0</td>\n",
       "      <td>0</td>\n",
       "      <td>0</td>\n",
       "      <td>0</td>\n",
       "      <td>0</td>\n",
       "      <td>0</td>\n",
       "      <td>0</td>\n",
       "      <td>0</td>\n",
       "    </tr>\n",
       "    <tr>\n",
       "      <th>3</th>\n",
       "      <td>0</td>\n",
       "      <td>1</td>\n",
       "      <td>0</td>\n",
       "      <td>0</td>\n",
       "      <td>0</td>\n",
       "      <td>0</td>\n",
       "      <td>0</td>\n",
       "      <td>0</td>\n",
       "      <td>0</td>\n",
       "      <td>0</td>\n",
       "      <td>...</td>\n",
       "      <td>0</td>\n",
       "      <td>0</td>\n",
       "      <td>0</td>\n",
       "      <td>0</td>\n",
       "      <td>0</td>\n",
       "      <td>0</td>\n",
       "      <td>0</td>\n",
       "      <td>0</td>\n",
       "      <td>0</td>\n",
       "      <td>0</td>\n",
       "    </tr>\n",
       "    <tr>\n",
       "      <th>4</th>\n",
       "      <td>0</td>\n",
       "      <td>0</td>\n",
       "      <td>1</td>\n",
       "      <td>0</td>\n",
       "      <td>0</td>\n",
       "      <td>0</td>\n",
       "      <td>0</td>\n",
       "      <td>0</td>\n",
       "      <td>0</td>\n",
       "      <td>0</td>\n",
       "      <td>...</td>\n",
       "      <td>0</td>\n",
       "      <td>0</td>\n",
       "      <td>0</td>\n",
       "      <td>0</td>\n",
       "      <td>0</td>\n",
       "      <td>0</td>\n",
       "      <td>0</td>\n",
       "      <td>0</td>\n",
       "      <td>0</td>\n",
       "      <td>0</td>\n",
       "    </tr>\n",
       "    <tr>\n",
       "      <th>5</th>\n",
       "      <td>0</td>\n",
       "      <td>0</td>\n",
       "      <td>1</td>\n",
       "      <td>0</td>\n",
       "      <td>0</td>\n",
       "      <td>0</td>\n",
       "      <td>0</td>\n",
       "      <td>0</td>\n",
       "      <td>0</td>\n",
       "      <td>0</td>\n",
       "      <td>...</td>\n",
       "      <td>0</td>\n",
       "      <td>0</td>\n",
       "      <td>0</td>\n",
       "      <td>0</td>\n",
       "      <td>0</td>\n",
       "      <td>0</td>\n",
       "      <td>0</td>\n",
       "      <td>0</td>\n",
       "      <td>0</td>\n",
       "      <td>0</td>\n",
       "    </tr>\n",
       "    <tr>\n",
       "      <th>6</th>\n",
       "      <td>0</td>\n",
       "      <td>0</td>\n",
       "      <td>0</td>\n",
       "      <td>1</td>\n",
       "      <td>0</td>\n",
       "      <td>0</td>\n",
       "      <td>0</td>\n",
       "      <td>0</td>\n",
       "      <td>0</td>\n",
       "      <td>0</td>\n",
       "      <td>...</td>\n",
       "      <td>0</td>\n",
       "      <td>0</td>\n",
       "      <td>0</td>\n",
       "      <td>0</td>\n",
       "      <td>0</td>\n",
       "      <td>0</td>\n",
       "      <td>0</td>\n",
       "      <td>0</td>\n",
       "      <td>0</td>\n",
       "      <td>0</td>\n",
       "    </tr>\n",
       "    <tr>\n",
       "      <th>7</th>\n",
       "      <td>0</td>\n",
       "      <td>0</td>\n",
       "      <td>0</td>\n",
       "      <td>1</td>\n",
       "      <td>0</td>\n",
       "      <td>0</td>\n",
       "      <td>0</td>\n",
       "      <td>0</td>\n",
       "      <td>0</td>\n",
       "      <td>0</td>\n",
       "      <td>...</td>\n",
       "      <td>0</td>\n",
       "      <td>0</td>\n",
       "      <td>0</td>\n",
       "      <td>0</td>\n",
       "      <td>0</td>\n",
       "      <td>0</td>\n",
       "      <td>0</td>\n",
       "      <td>0</td>\n",
       "      <td>0</td>\n",
       "      <td>0</td>\n",
       "    </tr>\n",
       "    <tr>\n",
       "      <th>8</th>\n",
       "      <td>0</td>\n",
       "      <td>0</td>\n",
       "      <td>0</td>\n",
       "      <td>0</td>\n",
       "      <td>1</td>\n",
       "      <td>0</td>\n",
       "      <td>0</td>\n",
       "      <td>0</td>\n",
       "      <td>0</td>\n",
       "      <td>0</td>\n",
       "      <td>...</td>\n",
       "      <td>0</td>\n",
       "      <td>0</td>\n",
       "      <td>0</td>\n",
       "      <td>0</td>\n",
       "      <td>0</td>\n",
       "      <td>0</td>\n",
       "      <td>0</td>\n",
       "      <td>0</td>\n",
       "      <td>0</td>\n",
       "      <td>0</td>\n",
       "    </tr>\n",
       "    <tr>\n",
       "      <th>9</th>\n",
       "      <td>0</td>\n",
       "      <td>0</td>\n",
       "      <td>0</td>\n",
       "      <td>0</td>\n",
       "      <td>1</td>\n",
       "      <td>0</td>\n",
       "      <td>0</td>\n",
       "      <td>0</td>\n",
       "      <td>0</td>\n",
       "      <td>0</td>\n",
       "      <td>...</td>\n",
       "      <td>0</td>\n",
       "      <td>0</td>\n",
       "      <td>0</td>\n",
       "      <td>0</td>\n",
       "      <td>0</td>\n",
       "      <td>0</td>\n",
       "      <td>0</td>\n",
       "      <td>0</td>\n",
       "      <td>0</td>\n",
       "      <td>0</td>\n",
       "    </tr>\n",
       "  </tbody>\n",
       "</table>\n",
       "<p>10 rows × 64 columns</p>\n",
       "</div>"
      ],
      "text/plain": [
       "   15   16   17   18   19   20   21   23   24   25   ...  93   97   98   99   \\\n",
       "0    1    0    0    0    0    0    0    0    0    0  ...    0    0    0    0   \n",
       "1    1    0    0    0    0    0    0    0    0    0  ...    0    0    0    0   \n",
       "2    0    1    0    0    0    0    0    0    0    0  ...    0    0    0    0   \n",
       "3    0    1    0    0    0    0    0    0    0    0  ...    0    0    0    0   \n",
       "4    0    0    1    0    0    0    0    0    0    0  ...    0    0    0    0   \n",
       "5    0    0    1    0    0    0    0    0    0    0  ...    0    0    0    0   \n",
       "6    0    0    0    1    0    0    0    0    0    0  ...    0    0    0    0   \n",
       "7    0    0    0    1    0    0    0    0    0    0  ...    0    0    0    0   \n",
       "8    0    0    0    0    1    0    0    0    0    0  ...    0    0    0    0   \n",
       "9    0    0    0    0    1    0    0    0    0    0  ...    0    0    0    0   \n",
       "\n",
       "   101  103  113  120  126  137  \n",
       "0    0    0    0    0    0    0  \n",
       "1    0    0    0    0    0    0  \n",
       "2    0    0    0    0    0    0  \n",
       "3    0    0    0    0    0    0  \n",
       "4    0    0    0    0    0    0  \n",
       "5    0    0    0    0    0    0  \n",
       "6    0    0    0    0    0    0  \n",
       "7    0    0    0    0    0    0  \n",
       "8    0    0    0    0    0    0  \n",
       "9    0    0    0    0    0    0  \n",
       "\n",
       "[10 rows x 64 columns]"
      ]
     },
     "execution_count": 42,
     "metadata": {},
     "output_type": "execute_result"
    }
   ],
   "source": [
    "pd.get_dummies(df[\"Annual Income (k$)\"]).head(10)"
   ]
  },
  {
   "cell_type": "code",
   "execution_count": 43,
   "metadata": {},
   "outputs": [
    {
     "data": {
      "text/html": [
       "<div>\n",
       "<style scoped>\n",
       "    .dataframe tbody tr th:only-of-type {\n",
       "        vertical-align: middle;\n",
       "    }\n",
       "\n",
       "    .dataframe tbody tr th {\n",
       "        vertical-align: top;\n",
       "    }\n",
       "\n",
       "    .dataframe thead th {\n",
       "        text-align: right;\n",
       "    }\n",
       "</style>\n",
       "<table border=\"1\" class=\"dataframe\">\n",
       "  <thead>\n",
       "    <tr style=\"text-align: right;\">\n",
       "      <th></th>\n",
       "      <th>CustomerID</th>\n",
       "      <th>Age</th>\n",
       "      <th>Annual Income (k$)</th>\n",
       "      <th>Spending Score (1-100)</th>\n",
       "      <th>Genre_Female</th>\n",
       "      <th>Genre_Male</th>\n",
       "    </tr>\n",
       "  </thead>\n",
       "  <tbody>\n",
       "    <tr>\n",
       "      <th>0</th>\n",
       "      <td>1</td>\n",
       "      <td>19</td>\n",
       "      <td>15</td>\n",
       "      <td>39</td>\n",
       "      <td>0</td>\n",
       "      <td>1</td>\n",
       "    </tr>\n",
       "    <tr>\n",
       "      <th>1</th>\n",
       "      <td>2</td>\n",
       "      <td>21</td>\n",
       "      <td>15</td>\n",
       "      <td>81</td>\n",
       "      <td>0</td>\n",
       "      <td>1</td>\n",
       "    </tr>\n",
       "    <tr>\n",
       "      <th>2</th>\n",
       "      <td>3</td>\n",
       "      <td>20</td>\n",
       "      <td>16</td>\n",
       "      <td>6</td>\n",
       "      <td>1</td>\n",
       "      <td>0</td>\n",
       "    </tr>\n",
       "    <tr>\n",
       "      <th>3</th>\n",
       "      <td>4</td>\n",
       "      <td>23</td>\n",
       "      <td>16</td>\n",
       "      <td>77</td>\n",
       "      <td>1</td>\n",
       "      <td>0</td>\n",
       "    </tr>\n",
       "    <tr>\n",
       "      <th>4</th>\n",
       "      <td>5</td>\n",
       "      <td>31</td>\n",
       "      <td>17</td>\n",
       "      <td>40</td>\n",
       "      <td>1</td>\n",
       "      <td>0</td>\n",
       "    </tr>\n",
       "    <tr>\n",
       "      <th>5</th>\n",
       "      <td>6</td>\n",
       "      <td>22</td>\n",
       "      <td>17</td>\n",
       "      <td>76</td>\n",
       "      <td>1</td>\n",
       "      <td>0</td>\n",
       "    </tr>\n",
       "    <tr>\n",
       "      <th>6</th>\n",
       "      <td>7</td>\n",
       "      <td>35</td>\n",
       "      <td>18</td>\n",
       "      <td>6</td>\n",
       "      <td>1</td>\n",
       "      <td>0</td>\n",
       "    </tr>\n",
       "    <tr>\n",
       "      <th>7</th>\n",
       "      <td>8</td>\n",
       "      <td>23</td>\n",
       "      <td>18</td>\n",
       "      <td>94</td>\n",
       "      <td>1</td>\n",
       "      <td>0</td>\n",
       "    </tr>\n",
       "    <tr>\n",
       "      <th>8</th>\n",
       "      <td>9</td>\n",
       "      <td>39</td>\n",
       "      <td>19</td>\n",
       "      <td>3</td>\n",
       "      <td>0</td>\n",
       "      <td>1</td>\n",
       "    </tr>\n",
       "    <tr>\n",
       "      <th>9</th>\n",
       "      <td>10</td>\n",
       "      <td>30</td>\n",
       "      <td>19</td>\n",
       "      <td>72</td>\n",
       "      <td>1</td>\n",
       "      <td>0</td>\n",
       "    </tr>\n",
       "  </tbody>\n",
       "</table>\n",
       "</div>"
      ],
      "text/plain": [
       "   CustomerID  Age  Annual Income (k$)  Spending Score (1-100)  Genre_Female  \\\n",
       "0           1   19                  15                      39             0   \n",
       "1           2   21                  15                      81             0   \n",
       "2           3   20                  16                       6             1   \n",
       "3           4   23                  16                      77             1   \n",
       "4           5   31                  17                      40             1   \n",
       "5           6   22                  17                      76             1   \n",
       "6           7   35                  18                       6             1   \n",
       "7           8   23                  18                      94             1   \n",
       "8           9   39                  19                       3             0   \n",
       "9          10   30                  19                      72             1   \n",
       "\n",
       "   Genre_Male  \n",
       "0           1  \n",
       "1           1  \n",
       "2           0  \n",
       "3           0  \n",
       "4           0  \n",
       "5           0  \n",
       "6           0  \n",
       "7           0  \n",
       "8           1  \n",
       "9           0  "
      ]
     },
     "execution_count": 43,
     "metadata": {},
     "output_type": "execute_result"
    }
   ],
   "source": [
    "pd.get_dummies(df).head(10)"
   ]
  },
  {
   "cell_type": "markdown",
   "metadata": {},
   "source": [
    "# Scaling the data"
   ]
  },
  {
   "cell_type": "code",
   "execution_count": 44,
   "metadata": {},
   "outputs": [],
   "source": [
    "from sklearn.preprocessing import MinMaxScaler\n",
    "sc=MinMaxScaler()"
   ]
  },
  {
   "cell_type": "code",
   "execution_count": 46,
   "metadata": {},
   "outputs": [],
   "source": [
    "from sklearn.preprocessing import LabelEncoder\n",
    "from sklearn.preprocessing import StandardScaler\n",
    "from sklearn.model_selection import train_test_split"
   ]
  },
  {
   "cell_type": "code",
   "execution_count": 49,
   "metadata": {},
   "outputs": [],
   "source": [
    "label = LabelEncoder()\n",
    "label = label.fit_transform(df[\"Genre\"])\n",
    "df[\"Genre\"] = label\n",
    "df['Genre'].value_counts()\n",
    "\n",
    "X = df.drop(\"Age\",axis=1)\n",
    "Y = df['Age']"
   ]
  },
  {
   "cell_type": "code",
   "execution_count": 50,
   "metadata": {},
   "outputs": [
    {
     "data": {
      "text/plain": [
       "array([[-1.7234121 ,  1.12815215, -1.73899919, -0.43480148],\n",
       "       [-1.70609137,  1.12815215, -1.73899919,  1.19570407],\n",
       "       [-1.68877065, -0.88640526, -1.70082976, -1.71591298],\n",
       "       [-1.67144992, -0.88640526, -1.70082976,  1.04041783],\n",
       "       [-1.6541292 , -0.88640526, -1.66266033, -0.39597992],\n",
       "       [-1.63680847, -0.88640526, -1.66266033,  1.00159627],\n",
       "       [-1.61948775, -0.88640526, -1.62449091, -1.71591298],\n",
       "       [-1.60216702, -0.88640526, -1.62449091,  1.70038436],\n",
       "       [-1.5848463 ,  1.12815215, -1.58632148, -1.83237767],\n",
       "       [-1.56752558, -0.88640526, -1.58632148,  0.84631002],\n",
       "       [-1.55020485,  1.12815215, -1.58632148, -1.4053405 ],\n",
       "       [-1.53288413, -0.88640526, -1.58632148,  1.89449216],\n",
       "       [-1.5155634 , -0.88640526, -1.54815205, -1.36651894],\n",
       "       [-1.49824268, -0.88640526, -1.54815205,  1.04041783],\n",
       "       [-1.48092195,  1.12815215, -1.54815205, -1.44416206],\n",
       "       [-1.46360123,  1.12815215, -1.54815205,  1.11806095],\n",
       "       [-1.4462805 , -0.88640526, -1.50998262, -0.59008772],\n",
       "       [-1.42895978,  1.12815215, -1.50998262,  0.61338066],\n",
       "       [-1.41163905,  1.12815215, -1.43364376, -0.82301709],\n",
       "       [-1.39431833, -0.88640526, -1.43364376,  1.8556706 ],\n",
       "       [-1.3769976 ,  1.12815215, -1.39547433, -0.59008772],\n",
       "       [-1.35967688,  1.12815215, -1.39547433,  0.88513158],\n",
       "       [-1.34235616, -0.88640526, -1.3573049 , -1.75473454],\n",
       "       [-1.32503543,  1.12815215, -1.3573049 ,  0.88513158],\n",
       "       [-1.30771471, -0.88640526, -1.24279661, -1.4053405 ],\n",
       "       [-1.29039398,  1.12815215, -1.24279661,  1.23452563],\n",
       "       [-1.27307326, -0.88640526, -1.24279661, -0.7065524 ],\n",
       "       [-1.25575253,  1.12815215, -1.24279661,  0.41927286],\n",
       "       [-1.23843181, -0.88640526, -1.20462718, -0.74537397],\n",
       "       [-1.22111108, -0.88640526, -1.20462718,  1.42863343],\n",
       "       [-1.20379036,  1.12815215, -1.16645776, -1.7935561 ],\n",
       "       [-1.18646963, -0.88640526, -1.16645776,  0.88513158],\n",
       "       [-1.16914891,  1.12815215, -1.05194947, -1.7935561 ],\n",
       "       [-1.15182818,  1.12815215, -1.05194947,  1.62274124],\n",
       "       [-1.13450746, -0.88640526, -1.05194947, -1.4053405 ],\n",
       "       [-1.11718674, -0.88640526, -1.05194947,  1.19570407],\n",
       "       [-1.09986601, -0.88640526, -1.01378004, -1.28887582],\n",
       "       [-1.08254529, -0.88640526, -1.01378004,  0.88513158],\n",
       "       [-1.06522456, -0.88640526, -0.89927175, -0.93948177],\n",
       "       [-1.04790384, -0.88640526, -0.89927175,  0.96277471],\n",
       "       [-1.03058311, -0.88640526, -0.86110232, -0.59008772],\n",
       "       [-1.01326239,  1.12815215, -0.86110232,  1.62274124],\n",
       "       [-0.99594166,  1.12815215, -0.82293289, -0.55126616],\n",
       "       [-0.97862094, -0.88640526, -0.82293289,  0.41927286],\n",
       "       [-0.96130021, -0.88640526, -0.82293289, -0.86183865],\n",
       "       [-0.94397949, -0.88640526, -0.82293289,  0.5745591 ],\n",
       "       [-0.92665877, -0.88640526, -0.78476346,  0.18634349],\n",
       "       [-0.90933804, -0.88640526, -0.78476346, -0.12422899],\n",
       "       [-0.89201732, -0.88640526, -0.78476346, -0.3183368 ],\n",
       "       [-0.87469659, -0.88640526, -0.78476346, -0.3183368 ],\n",
       "       [-0.85737587, -0.88640526, -0.70842461,  0.06987881],\n",
       "       [-0.84005514,  1.12815215, -0.70842461,  0.38045129],\n",
       "       [-0.82273442, -0.88640526, -0.67025518,  0.14752193],\n",
       "       [-0.80541369,  1.12815215, -0.67025518,  0.38045129],\n",
       "       [-0.78809297, -0.88640526, -0.67025518, -0.20187212],\n",
       "       [-0.77077224,  1.12815215, -0.67025518, -0.35715836],\n",
       "       [-0.75345152, -0.88640526, -0.63208575, -0.00776431],\n",
       "       [-0.73613079,  1.12815215, -0.63208575, -0.16305055],\n",
       "       [-0.71881007, -0.88640526, -0.55574689,  0.03105725],\n",
       "       [-0.70148935,  1.12815215, -0.55574689, -0.16305055],\n",
       "       [-0.68416862,  1.12815215, -0.55574689,  0.22516505],\n",
       "       [-0.6668479 ,  1.12815215, -0.55574689,  0.18634349],\n",
       "       [-0.64952717, -0.88640526, -0.51757746,  0.06987881],\n",
       "       [-0.63220645, -0.88640526, -0.51757746,  0.34162973],\n",
       "       [-0.61488572,  1.12815215, -0.47940803,  0.03105725],\n",
       "       [-0.597565  ,  1.12815215, -0.47940803,  0.34162973],\n",
       "       [-0.58024427, -0.88640526, -0.47940803, -0.00776431],\n",
       "       [-0.56292355, -0.88640526, -0.47940803, -0.08540743],\n",
       "       [-0.54560282,  1.12815215, -0.47940803,  0.34162973],\n",
       "       [-0.5282821 , -0.88640526, -0.47940803, -0.12422899],\n",
       "       [-0.51096138,  1.12815215, -0.4412386 ,  0.18634349],\n",
       "       [-0.49364065, -0.88640526, -0.4412386 , -0.3183368 ],\n",
       "       [-0.47631993, -0.88640526, -0.40306917, -0.04658587],\n",
       "       [-0.4589992 , -0.88640526, -0.40306917,  0.22516505],\n",
       "       [-0.44167848,  1.12815215, -0.25039146, -0.12422899],\n",
       "       [-0.42435775,  1.12815215, -0.25039146,  0.14752193],\n",
       "       [-0.40703703, -0.88640526, -0.25039146,  0.10870037],\n",
       "       [-0.3897163 ,  1.12815215, -0.25039146, -0.08540743],\n",
       "       [-0.37239558, -0.88640526, -0.25039146,  0.06987881],\n",
       "       [-0.35507485, -0.88640526, -0.25039146, -0.3183368 ],\n",
       "       [-0.33775413,  1.12815215, -0.25039146,  0.03105725],\n",
       "       [-0.3204334 ,  1.12815215, -0.25039146,  0.18634349],\n",
       "       [-0.30311268,  1.12815215, -0.25039146, -0.35715836],\n",
       "       [-0.28579196, -0.88640526, -0.25039146, -0.24069368],\n",
       "       [-0.26847123, -0.88640526, -0.25039146,  0.26398661],\n",
       "       [-0.25115051,  1.12815215, -0.25039146, -0.16305055],\n",
       "       [-0.23382978, -0.88640526, -0.13588317,  0.30280817],\n",
       "       [-0.21650906, -0.88640526, -0.13588317,  0.18634349],\n",
       "       [-0.19918833, -0.88640526, -0.09771374,  0.38045129],\n",
       "       [-0.18186761, -0.88640526, -0.09771374, -0.16305055],\n",
       "       [-0.16454688, -0.88640526, -0.05954431,  0.18634349],\n",
       "       [-0.14722616,  1.12815215, -0.05954431, -0.35715836],\n",
       "       [-0.12990543,  1.12815215, -0.02137488, -0.04658587],\n",
       "       [-0.11258471, -0.88640526, -0.02137488, -0.39597992],\n",
       "       [-0.09526399, -0.88640526, -0.02137488, -0.3183368 ],\n",
       "       [-0.07794326,  1.12815215, -0.02137488,  0.06987881],\n",
       "       [-0.06062254, -0.88640526, -0.02137488, -0.12422899],\n",
       "       [-0.04330181, -0.88640526, -0.02137488, -0.00776431],\n",
       "       [-0.02598109,  1.12815215,  0.01679455, -0.3183368 ],\n",
       "       [-0.00866036,  1.12815215,  0.01679455, -0.04658587],\n",
       "       [ 0.00866036, -0.88640526,  0.05496398, -0.35715836],\n",
       "       [ 0.02598109, -0.88640526,  0.05496398, -0.08540743],\n",
       "       [ 0.04330181,  1.12815215,  0.05496398,  0.34162973],\n",
       "       [ 0.06062254,  1.12815215,  0.05496398,  0.18634349],\n",
       "       [ 0.07794326,  1.12815215,  0.05496398,  0.22516505],\n",
       "       [ 0.09526399, -0.88640526,  0.05496398, -0.3183368 ],\n",
       "       [ 0.11258471, -0.88640526,  0.09313341, -0.00776431],\n",
       "       [ 0.12990543,  1.12815215,  0.09313341, -0.16305055],\n",
       "       [ 0.14722616,  1.12815215,  0.09313341, -0.27951524],\n",
       "       [ 0.16454688,  1.12815215,  0.09313341, -0.08540743],\n",
       "       [ 0.18186761,  1.12815215,  0.09313341,  0.06987881],\n",
       "       [ 0.19918833, -0.88640526,  0.09313341,  0.14752193],\n",
       "       [ 0.21650906, -0.88640526,  0.13130284, -0.3183368 ],\n",
       "       [ 0.23382978,  1.12815215,  0.13130284, -0.16305055],\n",
       "       [ 0.25115051, -0.88640526,  0.16947227, -0.08540743],\n",
       "       [ 0.26847123, -0.88640526,  0.16947227, -0.00776431],\n",
       "       [ 0.28579196, -0.88640526,  0.16947227, -0.27951524],\n",
       "       [ 0.30311268, -0.88640526,  0.16947227,  0.34162973],\n",
       "       [ 0.3204334 , -0.88640526,  0.24581112, -0.27951524],\n",
       "       [ 0.33775413, -0.88640526,  0.24581112,  0.26398661],\n",
       "       [ 0.35507485,  1.12815215,  0.24581112,  0.22516505],\n",
       "       [ 0.37239558, -0.88640526,  0.24581112, -0.39597992],\n",
       "       [ 0.3897163 , -0.88640526,  0.32214998,  0.30280817],\n",
       "       [ 0.40703703,  1.12815215,  0.32214998,  1.58391968],\n",
       "       [ 0.42435775, -0.88640526,  0.36031941, -0.82301709],\n",
       "       [ 0.44167848, -0.88640526,  0.36031941,  1.04041783],\n",
       "       [ 0.4589992 ,  1.12815215,  0.39848884, -0.59008772],\n",
       "       [ 0.47631993,  1.12815215,  0.39848884,  1.73920592],\n",
       "       [ 0.49364065,  1.12815215,  0.39848884, -1.52180518],\n",
       "       [ 0.51096138,  1.12815215,  0.39848884,  0.96277471],\n",
       "       [ 0.5282821 ,  1.12815215,  0.39848884, -1.5994483 ],\n",
       "       [ 0.54560282,  1.12815215,  0.39848884,  0.96277471],\n",
       "       [ 0.56292355, -0.88640526,  0.43665827, -0.62890928],\n",
       "       [ 0.58024427, -0.88640526,  0.43665827,  0.80748846],\n",
       "       [ 0.597565  ,  1.12815215,  0.4748277 , -1.75473454],\n",
       "       [ 0.61488572, -0.88640526,  0.4748277 ,  1.46745499],\n",
       "       [ 0.63220645, -0.88640526,  0.4748277 , -1.67709142],\n",
       "       [ 0.64952717,  1.12815215,  0.4748277 ,  0.88513158],\n",
       "       [ 0.6668479 ,  1.12815215,  0.51299713, -1.56062674],\n",
       "       [ 0.68416862, -0.88640526,  0.51299713,  0.84631002],\n",
       "       [ 0.70148935, -0.88640526,  0.55116656, -1.75473454],\n",
       "       [ 0.71881007,  1.12815215,  0.55116656,  1.6615628 ],\n",
       "       [ 0.73613079, -0.88640526,  0.58933599, -0.39597992],\n",
       "       [ 0.75345152, -0.88640526,  0.58933599,  1.42863343],\n",
       "       [ 0.77077224,  1.12815215,  0.62750542, -1.48298362],\n",
       "       [ 0.78809297,  1.12815215,  0.62750542,  1.81684904],\n",
       "       [ 0.80541369,  1.12815215,  0.62750542, -0.55126616],\n",
       "       [ 0.82273442, -0.88640526,  0.62750542,  0.92395314],\n",
       "       [ 0.84005514, -0.88640526,  0.66567484, -1.09476801],\n",
       "       [ 0.85737587,  1.12815215,  0.66567484,  1.54509812],\n",
       "       [ 0.87469659,  1.12815215,  0.66567484, -1.28887582],\n",
       "       [ 0.89201732,  1.12815215,  0.66567484,  1.46745499],\n",
       "       [ 0.90933804, -0.88640526,  0.66567484, -1.17241113],\n",
       "       [ 0.92665877, -0.88640526,  0.66567484,  1.00159627],\n",
       "       [ 0.94397949, -0.88640526,  0.66567484, -1.32769738],\n",
       "       [ 0.96130021, -0.88640526,  0.66567484,  1.50627656],\n",
       "       [ 0.97862094,  1.12815215,  0.66567484, -1.91002079],\n",
       "       [ 0.99594166, -0.88640526,  0.66567484,  1.07923939],\n",
       "       [ 1.01326239,  1.12815215,  0.66567484, -1.91002079],\n",
       "       [ 1.03058311, -0.88640526,  0.66567484,  0.88513158],\n",
       "       [ 1.04790384, -0.88640526,  0.70384427, -0.59008772],\n",
       "       [ 1.06522456, -0.88640526,  0.70384427,  1.27334719],\n",
       "       [ 1.08254529,  1.12815215,  0.78018313, -1.75473454],\n",
       "       [ 1.09986601, -0.88640526,  0.78018313,  1.6615628 ],\n",
       "       [ 1.11718674,  1.12815215,  0.93286085, -0.93948177],\n",
       "       [ 1.13450746, -0.88640526,  0.93286085,  0.96277471],\n",
       "       [ 1.15182818,  1.12815215,  0.97103028, -1.17241113],\n",
       "       [ 1.16914891, -0.88640526,  0.97103028,  1.73920592],\n",
       "       [ 1.18646963, -0.88640526,  1.00919971, -0.90066021],\n",
       "       [ 1.20379036,  1.12815215,  1.00919971,  0.49691598],\n",
       "       [ 1.22111108,  1.12815215,  1.00919971, -1.44416206],\n",
       "       [ 1.23843181,  1.12815215,  1.00919971,  0.96277471],\n",
       "       [ 1.25575253,  1.12815215,  1.00919971, -1.56062674],\n",
       "       [ 1.27307326,  1.12815215,  1.00919971,  1.62274124],\n",
       "       [ 1.29039398, -0.88640526,  1.04736914, -1.44416206],\n",
       "       [ 1.30771471, -0.88640526,  1.04736914,  1.38981187],\n",
       "       [ 1.32503543,  1.12815215,  1.04736914, -1.36651894],\n",
       "       [ 1.34235616,  1.12815215,  1.04736914,  0.72984534],\n",
       "       [ 1.35967688,  1.12815215,  1.23821628, -1.4053405 ],\n",
       "       [ 1.3769976 ,  1.12815215,  1.23821628,  1.54509812],\n",
       "       [ 1.39431833, -0.88640526,  1.390894  , -0.7065524 ],\n",
       "       [ 1.41163905, -0.88640526,  1.390894  ,  1.38981187],\n",
       "       [ 1.42895978,  1.12815215,  1.42906343, -1.36651894],\n",
       "       [ 1.4462805 , -0.88640526,  1.42906343,  1.46745499],\n",
       "       [ 1.46360123, -0.88640526,  1.46723286, -0.43480148],\n",
       "       [ 1.48092195,  1.12815215,  1.46723286,  1.81684904],\n",
       "       [ 1.49824268, -0.88640526,  1.54357172, -1.01712489],\n",
       "       [ 1.5155634 ,  1.12815215,  1.54357172,  0.69102378],\n",
       "       [ 1.53288413, -0.88640526,  1.61991057, -1.28887582],\n",
       "       [ 1.55020485, -0.88640526,  1.61991057,  1.35099031],\n",
       "       [ 1.56752558, -0.88640526,  1.61991057, -1.05594645],\n",
       "       [ 1.5848463 , -0.88640526,  1.61991057,  0.72984534],\n",
       "       [ 1.60216702,  1.12815215,  2.00160487, -1.63826986],\n",
       "       [ 1.61948775, -0.88640526,  2.00160487,  1.58391968],\n",
       "       [ 1.63680847, -0.88640526,  2.26879087, -1.32769738],\n",
       "       [ 1.6541292 , -0.88640526,  2.26879087,  1.11806095],\n",
       "       [ 1.67144992, -0.88640526,  2.49780745, -0.86183865],\n",
       "       [ 1.68877065,  1.12815215,  2.49780745,  0.92395314],\n",
       "       [ 1.70609137,  1.12815215,  2.91767117, -1.25005425],\n",
       "       [ 1.7234121 ,  1.12815215,  2.91767117,  1.27334719]])"
      ]
     },
     "execution_count": 50,
     "metadata": {},
     "output_type": "execute_result"
    }
   ],
   "source": [
    "object1 = StandardScaler()\n",
    "scale = object1.fit_transform(X) \n",
    "scale"
   ]
  },
  {
   "cell_type": "markdown",
   "metadata": {},
   "source": [
    "# Perform any of the clustering algorithms"
   ]
  },
  {
   "cell_type": "code",
   "execution_count": 51,
   "metadata": {},
   "outputs": [],
   "source": [
    "from sklearn.cluster import KMeans"
   ]
  },
  {
   "cell_type": "code",
   "execution_count": 53,
   "metadata": {},
   "outputs": [
    {
     "data": {
      "image/png": "[encoded data removed]",
      "text/plain": [
       "<Figure size 432x288 with 1 Axes>"
      ]
     },
     "metadata": {
      "needs_background": "light"
     },
     "output_type": "display_data"
    }
   ],
   "source": [
    "wcss = []\n",
    "for i in range(1,19):\n",
    "    m = KMeans(n_clusters=i , max_iter=300)\n",
    "    m.fit(df)  \n",
    "    wcss.append(m.inertia_)\n",
    "plt.plot(list(range(1,19)),wcss)\n",
    "plt.show()"
   ]
  },
  {
   "cell_type": "code",
   "execution_count": 62,
   "metadata": {},
   "outputs": [
    {
     "name": "stdout",
     "output_type": "stream",
     "text": [
      "[3 0 3 0 3 0 3 0 3 0 3 0 3 0 3 0 3 0 3 0 3 0 3 0 3 0 3 0 3 0 3 0 3 0 3 0 3\n",
      " 0 3 0 3 0 3 0 3 0 0 0 0 0 0 0 0 0 0 0 0 0 0 0 0 0 0 0 4 0 4 4 4 4 4 4 4 4\n",
      " 4 4 4 4 4 4 4 4 4 4 4 4 4 4 4 4 4 4 4 4 4 4 4 4 4 4 4 4 4 4 4 4 4 4 4 4 4\n",
      " 4 4 4 4 4 4 4 4 4 4 4 4 2 4 2 4 2 1 2 1 2 1 2 1 2 1 2 1 2 1 2 1 2 1 2 1 2\n",
      " 1 2 1 2 1 2 1 2 1 2 1 2 1 2 1 2 1 2 1 2 1 2 1 2 1 2 1 2 1 2 1 2 1 2 1 2 1\n",
      " 2 1 2 1 2 1 2 1 2 1 2 1 2 1 2]\n"
     ]
    }
   ],
   "source": [
    "kmeans = KMeans(n_clusters=5, init='k-means++', random_state=0)\n",
    "\n",
    "# return a label for each data point based on their cluster\n",
    "Y = kmeans.fit_predict(X)\n",
    "\n",
    "print(Y)"
   ]
  },
  {
   "cell_type": "code",
   "execution_count": 66,
   "metadata": {},
   "outputs": [
    {
     "data": {
      "text/plain": [
       "array([3, 0, 3, 0, 3, 0, 3, 0, 3, 0, 3, 0, 3, 0, 3, 0, 3, 0, 3, 0, 3, 0,\n",
       "       3, 0, 3, 0, 3, 0, 3, 0, 3, 0, 3, 0, 3, 0, 3, 0, 3, 0, 3, 0, 3, 0,\n",
       "       3, 0, 0, 0, 0, 0, 0, 0, 0, 0, 0, 0, 0, 0, 0, 0, 0, 0, 0, 0, 4, 0,\n",
       "       4, 4, 4, 4, 4, 4, 4, 4, 4, 4, 4, 4, 4, 4, 4, 4, 4, 4, 4, 4, 4, 4,\n",
       "       4, 4, 4, 4, 4, 4, 4, 4, 4, 4, 4, 4, 4, 4, 4, 4, 4, 4, 4, 4, 4, 4,\n",
       "       4, 4, 4, 4, 4, 4, 4, 4, 4, 4, 4, 4, 4, 2, 4, 2, 4, 2, 1, 2, 1, 2,\n",
       "       1, 2, 1, 2, 1, 2, 1, 2, 1, 2, 1, 2, 1, 2, 1, 2, 1, 2, 1, 2, 1, 2,\n",
       "       1, 2, 1, 2, 1, 2, 1, 2, 1, 2, 1, 2, 1, 2, 1, 2, 1, 2, 1, 2, 1, 2,\n",
       "       1, 2, 1, 2, 1, 2, 1, 2, 1, 2, 1, 2, 1, 2, 1, 2, 1, 2, 1, 2, 1, 2,\n",
       "       1, 2])"
      ]
     },
     "execution_count": 66,
     "metadata": {},
     "output_type": "execute_result"
    }
   ],
   "source": [
    "kmeans.labels_"
   ]
  },
  {
   "cell_type": "code",
   "execution_count": 67,
   "metadata": {},
   "outputs": [],
   "source": [
    "mb=pd.Series(kmeans.labels_)"
   ]
  },
  {
   "cell_type": "code",
   "execution_count": 68,
   "metadata": {},
   "outputs": [
    {
     "data": {
      "image/png": "[encoded data removed]",
      "text/plain": [
       "<Figure size 432x288 with 1 Axes>"
      ]
     },
     "metadata": {
      "needs_background": "light"
     },
     "output_type": "display_data"
    }
   ],
   "source": [
    "plt.scatter(df.iloc[:,0],df.iloc[:,1],c=y_pred)\n",
    "plt.scatter(centroid[:,0],centroid[:,1],marker='*',color='red',s=150)\n",
    "plt.xlabel('AnnualIncome')\n",
    "plt.ylabel('Score')\n",
    "plt.title('K-Clusters')\n",
    "plt.show()"
   ]
  },
  {
   "cell_type": "markdown",
   "metadata": {},
   "source": [
    "# Add the cluster data with the primary dataset"
   ]
  },
  {
   "cell_type": "code",
   "execution_count": 70,
   "metadata": {},
   "outputs": [],
   "source": [
    "df['cluster']=mb"
   ]
  },
  {
   "cell_type": "code",
   "execution_count": 71,
   "metadata": {},
   "outputs": [
    {
     "data": {
      "text/html": [
       "<div>\n",
       "<style scoped>\n",
       "    .dataframe tbody tr th:only-of-type {\n",
       "        vertical-align: middle;\n",
       "    }\n",
       "\n",
       "    .dataframe tbody tr th {\n",
       "        vertical-align: top;\n",
       "    }\n",
       "\n",
       "    .dataframe thead th {\n",
       "        text-align: right;\n",
       "    }\n",
       "</style>\n",
       "<table border=\"1\" class=\"dataframe\">\n",
       "  <thead>\n",
       "    <tr style=\"text-align: right;\">\n",
       "      <th></th>\n",
       "      <th>CustomerID</th>\n",
       "      <th>Genre</th>\n",
       "      <th>Age</th>\n",
       "      <th>Annual Income (k$)</th>\n",
       "      <th>Spending Score (1-100)</th>\n",
       "      <th>clust</th>\n",
       "      <th>cluster</th>\n",
       "    </tr>\n",
       "  </thead>\n",
       "  <tbody>\n",
       "    <tr>\n",
       "      <th>0</th>\n",
       "      <td>1</td>\n",
       "      <td>1</td>\n",
       "      <td>19</td>\n",
       "      <td>15</td>\n",
       "      <td>39</td>\n",
       "      <td>3</td>\n",
       "      <td>3</td>\n",
       "    </tr>\n",
       "    <tr>\n",
       "      <th>1</th>\n",
       "      <td>2</td>\n",
       "      <td>1</td>\n",
       "      <td>21</td>\n",
       "      <td>15</td>\n",
       "      <td>81</td>\n",
       "      <td>0</td>\n",
       "      <td>0</td>\n",
       "    </tr>\n",
       "    <tr>\n",
       "      <th>2</th>\n",
       "      <td>3</td>\n",
       "      <td>0</td>\n",
       "      <td>20</td>\n",
       "      <td>16</td>\n",
       "      <td>6</td>\n",
       "      <td>3</td>\n",
       "      <td>3</td>\n",
       "    </tr>\n",
       "    <tr>\n",
       "      <th>3</th>\n",
       "      <td>4</td>\n",
       "      <td>0</td>\n",
       "      <td>23</td>\n",
       "      <td>16</td>\n",
       "      <td>77</td>\n",
       "      <td>0</td>\n",
       "      <td>0</td>\n",
       "    </tr>\n",
       "    <tr>\n",
       "      <th>4</th>\n",
       "      <td>5</td>\n",
       "      <td>0</td>\n",
       "      <td>31</td>\n",
       "      <td>17</td>\n",
       "      <td>40</td>\n",
       "      <td>3</td>\n",
       "      <td>3</td>\n",
       "    </tr>\n",
       "  </tbody>\n",
       "</table>\n",
       "</div>"
      ],
      "text/plain": [
       "   CustomerID  Genre  Age  Annual Income (k$)  Spending Score (1-100)  clust  \\\n",
       "0           1      1   19                  15                      39      3   \n",
       "1           2      1   21                  15                      81      0   \n",
       "2           3      0   20                  16                       6      3   \n",
       "3           4      0   23                  16                      77      0   \n",
       "4           5      0   31                  17                      40      3   \n",
       "\n",
       "   cluster  \n",
       "0        3  \n",
       "1        0  \n",
       "2        3  \n",
       "3        0  \n",
       "4        3  "
      ]
     },
     "execution_count": 71,
     "metadata": {},
     "output_type": "execute_result"
    }
   ],
   "source": [
    "df.head()"
   ]
  },
  {
   "cell_type": "markdown",
   "metadata": {},
   "source": [
    "# Split the data into dependent and independent variables."
   ]
  },
  {
   "cell_type": "code",
   "execution_count": 72,
   "metadata": {},
   "outputs": [
    {
     "data": {
      "text/plain": [
       "array([3, 0, 3, 0, 3, 0, 3, 0, 3, 0, 3, 0, 3, 0, 3, 0, 3, 0, 3, 0, 3, 0,\n",
       "       3, 0, 3, 0, 3, 0, 3, 0, 3, 0, 3, 0, 3, 0, 3, 0, 3, 0, 3, 0, 3, 0,\n",
       "       3, 0, 0, 0, 0, 0, 0, 0, 0, 0, 0, 0, 0, 0, 0, 0, 0, 0, 0, 0, 4, 0,\n",
       "       4, 4, 4, 4, 4, 4, 4, 4, 4, 4, 4, 4, 4, 4, 4, 4, 4, 4, 4, 4, 4, 4,\n",
       "       4, 4, 4, 4, 4, 4, 4, 4, 4, 4, 4, 4, 4, 4, 4, 4, 4, 4, 4, 4, 4, 4,\n",
       "       4, 4, 4, 4, 4, 4, 4, 4, 4, 4, 4, 4, 4, 2, 4, 2, 4, 2, 1, 2, 1, 2,\n",
       "       1, 2, 1, 2, 1, 2, 1, 2, 1, 2, 1, 2, 1, 2, 1, 2, 1, 2, 1, 2, 1, 2,\n",
       "       1, 2, 1, 2, 1, 2, 1, 2, 1, 2, 1, 2, 1, 2, 1, 2, 1, 2, 1, 2, 1, 2,\n",
       "       1, 2, 1, 2, 1, 2, 1, 2, 1, 2, 1, 2, 1, 2, 1, 2, 1, 2, 1, 2, 1, 2,\n",
       "       1, 2])"
      ]
     },
     "execution_count": 72,
     "metadata": {},
     "output_type": "execute_result"
    }
   ],
   "source": [
    "y=df['clust'].values\n",
    "y"
   ]
  },
  {
   "cell_type": "code",
   "execution_count": 74,
   "metadata": {},
   "outputs": [
    {
     "data": {
      "text/plain": [
       "array([[  1,  19,  15,  39,   3],\n",
       "       [  1,  21,  15,  81,   0],\n",
       "       [  0,  20,  16,   6,   3],\n",
       "       [  0,  23,  16,  77,   0],\n",
       "       [  0,  31,  17,  40,   3],\n",
       "       [  0,  22,  17,  76,   0],\n",
       "       [  0,  35,  18,   6,   3],\n",
       "       [  0,  23,  18,  94,   0],\n",
       "       [  1,  39,  19,   3,   3],\n",
       "       [  0,  30,  19,  72,   0],\n",
       "       [  1,  39,  19,  14,   3],\n",
       "       [  0,  35,  19,  99,   0],\n",
       "       [  0,  39,  20,  15,   3],\n",
       "       [  0,  24,  20,  77,   0],\n",
       "       [  1,  37,  20,  13,   3],\n",
       "       [  1,  22,  20,  79,   0],\n",
       "       [  0,  35,  21,  35,   3],\n",
       "       [  1,  20,  21,  66,   0],\n",
       "       [  1,  52,  23,  29,   3],\n",
       "       [  0,  35,  23,  98,   0],\n",
       "       [  1,  35,  24,  35,   3],\n",
       "       [  1,  25,  24,  73,   0],\n",
       "       [  0,  46,  25,   5,   3],\n",
       "       [  1,  31,  25,  73,   0],\n",
       "       [  0,  54,  28,  14,   3],\n",
       "       [  1,  29,  28,  82,   0],\n",
       "       [  0,  45,  28,  32,   3],\n",
       "       [  1,  35,  28,  61,   0],\n",
       "       [  0,  40,  29,  31,   3],\n",
       "       [  0,  23,  29,  87,   0],\n",
       "       [  1,  39,  30,   4,   3],\n",
       "       [  0,  21,  30,  73,   0],\n",
       "       [  1,  53,  33,   4,   3],\n",
       "       [  1,  18,  33,  92,   0],\n",
       "       [  0,  49,  33,  14,   3],\n",
       "       [  0,  21,  33,  81,   0],\n",
       "       [  0,  42,  34,  17,   3],\n",
       "       [  0,  30,  34,  73,   0],\n",
       "       [  0,  36,  37,  26,   3],\n",
       "       [  0,  20,  37,  75,   0],\n",
       "       [  0,  39,  38,  35,   3],\n",
       "       [  1,  24,  38,  92,   0],\n",
       "       [  1,  48,  39,  36,   3],\n",
       "       [  0,  31,  39,  61,   0],\n",
       "       [  0,  49,  39,  28,   3],\n",
       "       [  0,  24,  39,  65,   0],\n",
       "       [  0,  50,  40,  55,   0],\n",
       "       [  0,  27,  40,  47,   0],\n",
       "       [  0,  29,  40,  42,   0],\n",
       "       [  0,  31,  40,  42,   0],\n",
       "       [  0,  49,  42,  52,   0],\n",
       "       [  1,  33,  42,  60,   0],\n",
       "       [  0,  31,  43,  54,   0],\n",
       "       [  1,  39,  43,  60,   0],\n",
       "       [  0,  50,  43,  45,   0],\n",
       "       [  1,  47,  43,  41,   0],\n",
       "       [  0,  51,  44,  50,   0],\n",
       "       [  1,  39,  44,  46,   0],\n",
       "       [  0,  27,  46,  51,   0],\n",
       "       [  1,  53,  46,  46,   0],\n",
       "       [  1,  39,  46,  56,   0],\n",
       "       [  1,  19,  46,  55,   0],\n",
       "       [  0,  39,  47,  52,   0],\n",
       "       [  0,  54,  47,  59,   0],\n",
       "       [  1,  39,  48,  51,   4],\n",
       "       [  1,  18,  48,  59,   0],\n",
       "       [  0,  43,  48,  50,   4],\n",
       "       [  0,  39,  48,  48,   4],\n",
       "       [  1,  19,  48,  59,   4],\n",
       "       [  0,  32,  48,  47,   4],\n",
       "       [  1,  39,  49,  55,   4],\n",
       "       [  0,  47,  49,  42,   4],\n",
       "       [  0,  39,  50,  49,   4],\n",
       "       [  0,  39,  50,  56,   4],\n",
       "       [  1,  39,  54,  47,   4],\n",
       "       [  1,  26,  54,  54,   4],\n",
       "       [  0,  45,  54,  53,   4],\n",
       "       [  1,  40,  54,  48,   4],\n",
       "       [  0,  23,  54,  52,   4],\n",
       "       [  0,  49,  54,  42,   4],\n",
       "       [  1,  57,  54,  51,   4],\n",
       "       [  1,  38,  54,  55,   4],\n",
       "       [  1,  39,  54,  41,   4],\n",
       "       [  0,  46,  54,  44,   4],\n",
       "       [  0,  21,  54,  57,   4],\n",
       "       [  1,  48,  54,  46,   4],\n",
       "       [  0,  55,  57,  58,   4],\n",
       "       [  0,  22,  57,  55,   4],\n",
       "       [  0,  34,  58,  60,   4],\n",
       "       [  0,  50,  58,  46,   4],\n",
       "       [  0,  39,  59,  55,   4],\n",
       "       [  1,  18,  59,  41,   4],\n",
       "       [  1,  48,  60,  49,   4],\n",
       "       [  0,  40,  60,  40,   4],\n",
       "       [  0,  32,  60,  42,   4],\n",
       "       [  1,  24,  60,  52,   4],\n",
       "       [  0,  47,  60,  47,   4],\n",
       "       [  0,  27,  60,  50,   4],\n",
       "       [  1,  48,  61,  42,   4],\n",
       "       [  1,  20,  61,  49,   4],\n",
       "       [  0,  23,  62,  41,   4],\n",
       "       [  0,  49,  62,  48,   4],\n",
       "       [  1,  39,  62,  59,   4],\n",
       "       [  1,  26,  62,  55,   4],\n",
       "       [  1,  49,  62,  56,   4],\n",
       "       [  0,  21,  62,  42,   4],\n",
       "       [  0,  39,  63,  50,   4],\n",
       "       [  1,  54,  63,  46,   4],\n",
       "       [  1,  39,  63,  43,   4],\n",
       "       [  1,  39,  63,  48,   4],\n",
       "       [  1,  39,  63,  52,   4],\n",
       "       [  0,  19,  63,  54,   4],\n",
       "       [  0,  38,  64,  42,   4],\n",
       "       [  1,  19,  64,  46,   4],\n",
       "       [  0,  18,  65,  48,   4],\n",
       "       [  0,  19,  65,  50,   4],\n",
       "       [  0,  39,  65,  43,   4],\n",
       "       [  0,  49,  65,  59,   4],\n",
       "       [  0,  51,  67,  43,   4],\n",
       "       [  0,  50,  67,  57,   4],\n",
       "       [  1,  27,  67,  56,   4],\n",
       "       [  0,  38,  67,  40,   4],\n",
       "       [  0,  40,  69,  58,   4],\n",
       "       [  1,  39,  69,  91,   2],\n",
       "       [  0,  23,  70,  29,   4],\n",
       "       [  0,  31,  70,  77,   2],\n",
       "       [  1,  43,  71,  35,   4],\n",
       "       [  1,  40,  71,  95,   2],\n",
       "       [  1,  39,  71,  11,   1],\n",
       "       [  1,  38,  71,  75,   2],\n",
       "       [  1,  47,  71,   9,   1],\n",
       "       [  1,  39,  71,  75,   2],\n",
       "       [  0,  25,  72,  34,   1],\n",
       "       [  0,  31,  72,  71,   2],\n",
       "       [  1,  20,  73,   5,   1],\n",
       "       [  0,  29,  73,  88,   2],\n",
       "       [  0,  44,  73,   7,   1],\n",
       "       [  1,  32,  73,  73,   2],\n",
       "       [  1,  19,  74,  10,   1],\n",
       "       [  0,  35,  74,  72,   2],\n",
       "       [  0,  57,  75,   5,   1],\n",
       "       [  1,  32,  75,  93,   2],\n",
       "       [  0,  28,  76,  40,   1],\n",
       "       [  0,  32,  76,  87,   2],\n",
       "       [  1,  25,  77,  12,   1],\n",
       "       [  1,  28,  77,  97,   2],\n",
       "       [  1,  48,  77,  36,   1],\n",
       "       [  0,  32,  77,  74,   2],\n",
       "       [  0,  34,  78,  22,   1],\n",
       "       [  1,  34,  78,  90,   2],\n",
       "       [  1,  43,  78,  17,   1],\n",
       "       [  1,  39,  78,  88,   2],\n",
       "       [  0,  44,  78,  20,   1],\n",
       "       [  0,  38,  78,  76,   2],\n",
       "       [  0,  47,  78,  16,   1],\n",
       "       [  0,  27,  78,  89,   2],\n",
       "       [  1,  37,  78,   1,   1],\n",
       "       [  0,  30,  78,  78,   2],\n",
       "       [  1,  34,  78,   1,   1],\n",
       "       [  0,  30,  78,  73,   2],\n",
       "       [  0,  56,  79,  35,   1],\n",
       "       [  0,  29,  79,  83,   2],\n",
       "       [  1,  19,  81,   5,   1],\n",
       "       [  0,  31,  81,  93,   2],\n",
       "       [  1,  50,  85,  26,   1],\n",
       "       [  0,  36,  85,  75,   2],\n",
       "       [  1,  42,  86,  20,   1],\n",
       "       [  0,  33,  86,  95,   2],\n",
       "       [  0,  36,  87,  27,   1],\n",
       "       [  1,  32,  87,  63,   2],\n",
       "       [  1,  40,  87,  13,   1],\n",
       "       [  1,  28,  87,  75,   2],\n",
       "       [  1,  36,  87,  10,   1],\n",
       "       [  1,  36,  87,  92,   2],\n",
       "       [  0,  52,  88,  13,   1],\n",
       "       [  0,  30,  88,  86,   2],\n",
       "       [  1,  39,  88,  15,   1],\n",
       "       [  1,  27,  88,  69,   2],\n",
       "       [  1,  39,  93,  14,   1],\n",
       "       [  1,  35,  93,  90,   2],\n",
       "       [  0,  37,  97,  32,   1],\n",
       "       [  0,  32,  97,  86,   2],\n",
       "       [  1,  46,  98,  15,   1],\n",
       "       [  0,  29,  98,  88,   2],\n",
       "       [  0,  41,  99,  39,   1],\n",
       "       [  1,  30,  99,  97,   2],\n",
       "       [  0,  54, 101,  24,   1],\n",
       "       [  1,  28, 101,  68,   2],\n",
       "       [  0,  41, 103,  17,   1],\n",
       "       [  0,  36, 103,  85,   2],\n",
       "       [  0,  34, 103,  23,   1],\n",
       "       [  0,  32, 103,  69,   2],\n",
       "       [  1,  33, 113,   8,   1],\n",
       "       [  0,  38, 113,  91,   2],\n",
       "       [  0,  47, 120,  16,   1],\n",
       "       [  0,  35, 120,  79,   2],\n",
       "       [  0,  45, 126,  28,   1],\n",
       "       [  1,  32, 126,  74,   2],\n",
       "       [  1,  32, 137,  18,   1],\n",
       "       [  1,  30, 137,  83,   2]], dtype=int64)"
      ]
     },
     "execution_count": 74,
     "metadata": {},
     "output_type": "execute_result"
    }
   ],
   "source": [
    "x=df.drop(columns=['clust','CustomerID'],axis=1).values\n",
    "x"
   ]
  },
  {
   "cell_type": "markdown",
   "metadata": {},
   "source": [
    "# Build the Model"
   ]
  },
  {
   "cell_type": "code",
   "execution_count": 77,
   "metadata": {},
   "outputs": [],
   "source": [
    "from sklearn.ensemble import RandomForestClassifier\n",
    "rf=RandomForestClassifier()\n",
    "X_train,X_test,y_train,y_test=train_test_split(X,Y,test_size=0.2,random_state=42)"
   ]
  },
  {
   "cell_type": "markdown",
   "metadata": {},
   "source": [
    "# Train the Model"
   ]
  },
  {
   "cell_type": "code",
   "execution_count": 80,
   "metadata": {},
   "outputs": [
    {
     "data": {
      "text/plain": [
       "RandomForestClassifier()"
      ]
     },
     "execution_count": 80,
     "metadata": {},
     "output_type": "execute_result"
    }
   ],
   "source": [
    "rf.fit(X_train,y_train)"
   ]
  },
  {
   "cell_type": "markdown",
   "metadata": {},
   "source": [
    "#  Test the Model"
   ]
  },
  {
   "cell_type": "code",
   "execution_count": 82,
   "metadata": {},
   "outputs": [
    {
     "data": {
      "text/plain": [
       "array([4, 0, 3, 1, 1, 4, 4, 1, 1, 0, 4, 1, 2, 4, 1, 2, 0, 1, 4, 4, 4, 3,\n",
       "       1, 4, 4, 0, 4, 4, 2, 1, 0, 3, 0, 4, 1, 4, 2, 2, 1, 4])"
      ]
     },
     "execution_count": 82,
     "metadata": {},
     "output_type": "execute_result"
    }
   ],
   "source": [
    "pred=rf.predict(X_test)\n",
    "\n",
    "pred"
   ]
  },
  {
   "cell_type": "markdown",
   "metadata": {},
   "source": [
    "# Measure the performance using Evaluation Metrics"
   ]
  },
  {
   "cell_type": "code",
   "execution_count": 85,
   "metadata": {},
   "outputs": [
    {
     "data": {
      "text/plain": [
       "0.975"
      ]
     },
     "execution_count": 85,
     "metadata": {},
     "output_type": "execute_result"
    }
   ],
   "source": [
    "from sklearn.metrics import accuracy_score,classification_report\n",
    "\n",
    "accuracy_score(y_test,pred)"
   ]
  },
  {
   "cell_type": "code",
   "execution_count": 87,
   "metadata": {},
   "outputs": [
    {
     "data": {
      "text/plain": [
       "array([[ 6,  0,  0,  0,  1],\n",
       "       [ 0, 11,  0,  0,  0],\n",
       "       [ 0,  0,  5,  0,  0],\n",
       "       [ 0,  0,  0,  3,  0],\n",
       "       [ 0,  0,  0,  0, 14]], dtype=int64)"
      ]
     },
     "execution_count": 87,
     "metadata": {},
     "output_type": "execute_result"
    }
   ],
   "source": [
    "from sklearn import metrics\n",
    "metrics.confusion_matrix(y_test,pred)"
   ]
  },
  {
   "cell_type": "code",
   "execution_count": null,
   "metadata": {},
   "outputs": [],
   "source": []
  }
 ],
 "metadata": {
  "kernelspec": {
   "display_name": "Python 3",
   "language": "python",
   "name": "python3"
  },
  "language_info": {
   "codemirror_mode": {
    "name": "ipython",
    "version": 3
   },
   "file_extension": ".py",
   "mimetype": "text/x-python",
   "name": "python",
   "nbconvert_exporter": "python",
   "pygments_lexer": "ipython3",
   "version": "3.8.5"
  }
 },
 "nbformat": 4,
 "nbformat_minor": 4
}
